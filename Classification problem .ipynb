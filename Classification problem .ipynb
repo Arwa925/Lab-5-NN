# Step 1: Import required libraries
from sklearn.datasets import load_iris
from sklearn.model_selection import train_test_split
from sklearn.preprocessing import OneHotEncoder, StandardScaler
from sklearn.metrics import confusion_matrix, ConfusionMatrixDisplay, accuracy_score
import tensorflow as tf
import matplotlib.pyplot as plt
import numpy as np

# Step 2: Load the Iris dataset
iris = load_iris()
X = iris.data
y = iris.target.reshape(-1, 1)  # Make it column vector for OneHotEncoder

# Step 3: One-hot encode the target labels
encoder = OneHotEncoder(sparse=False)
y = encoder.fit_transform(y)

# Step 4: Normalize input features
scaler = StandardScaler()
X = scaler.fit_transform(X)

# Step 5: Split into train (50%), validation (20%), test (30%)
X_train, X_temp, y_train, y_temp = train_test_split(X, y, test_size=0.5, random_state=42)
X_val, X_test, y_val, y_test = train_test_split(X_temp, y_temp, test_size=0.6, random_state=42)

# Step 6: Build the 4–10–3 neural network
model = tf.keras.Sequential([
    tf.keras.layers.Dense(10, activation='sigmoid', input_shape=(4,)),
    tf.keras.layers.Dense(3, activation='softmax')
])

# Step 7: Compile with cross-entropy loss and Adam optimizer
model.compile(optimizer='adam', loss='categorical_crossentropy', metrics=['accuracy'])

# Step 8: Fit the model for 500 epochs
history = model.fit(X_train, y_train, epochs=500, validation_data=(X_val, y_val), verbose=0)

# Step 9: Plot validation loss vs. epochs
plt.plot(history.history['val_loss'])
plt.xlabel("Epoch")
plt.ylabel("Validation Error")
plt.title("Validation Error per Epoch")
plt.show()

# Step 10: Predict classes on test set
y_pred = model.predict(X_test)
y_pred_classes = np.argmax(y_pred, axis=1)
y_true_classes = np.argmax(y_test, axis=1)

# Step 11: Display confusion matrix and accuracy
conf_matrix = confusion_matrix(y_true_classes, y_pred_classes)
disp = ConfusionMatrixDisplay(conf_matrix, display_labels=iris.target_names)
disp.plot()
plt.title("Confusion Matrix")
plt.show()

# Step 12: Print accuracy score
accuracy = accuracy_score(y_true_classes, y_pred_classes)
print("Accuracy:", accuracy)
