# Step 1: Import required libraries
import numpy as np
import tensorflow as tf
from sklearn.model_selection import train_test_split
from sklearn.metrics import mean_squared_error
import matplotlib.pyplot as plt

# Step 2: Generate 1000 samples in 4D space from [-1, 1]
X = np.random.uniform(-1, 1, (1000, 4))
x1, x2, x3, x4 = X[:, 0], X[:, 1], X[:, 2], X[:, 3]

# Step 3: Generate output y = sin(2πx1) * x2 * x3 * x4 * exp(–(x1+x2+x3+x4))
y = np.sin(2 * np.pi * x1) * x2 * x3 * x4 * np.exp(-(x1 + x2 + x3 + x4))
y = y.reshape(-1, 1)

# Step 4: Split data into train (70%), validation (15%), test (15%)
X_train, X_temp, y_train, y_temp = train_test_split(X, y, test_size=0.3, random_state=42)
X_val, X_test, y_val, y_test = train_test_split(X_temp, y_temp, test_size=0.5, random_state=42)

# Step 5: Build the 4–50–1 neural network using Keras
model = tf.keras.Sequential([
    tf.keras.layers.Dense(50, activation='sigmoid', input_shape=(4,)),
    tf.keras.layers.Dense(1, activation='linear')
])

# Step 6: Compile the model with MSE loss and Adam optimizer
model.compile(optimizer='adam', loss='mean_squared_error')

# Step 7: Fit the model for 500 epochs
history = model.fit(X_train, y_train, epochs=500, validation_data=(X_val, y_val), verbose=0)

# Step 8: Plot validation loss vs. epochs
plt.plot(history.history['val_loss'])
plt.xlabel("Epoch")
plt.ylabel("Validation Loss")
plt.title("Validation Loss per Epoch")
plt.show()

# Step 9: Predict on test data
y_pred = model.predict(X_test)

# Step 10: Calculate RMSE between actual and predicted test values
rmse = np.sqrt(mean_squared_error(y_test, y_pred))
print("Root Mean Square Error (RMSE):", rmse)
